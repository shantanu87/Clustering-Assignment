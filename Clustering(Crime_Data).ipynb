{
 "cells": [
  {
   "cell_type": "code",
   "execution_count": 1,
   "id": "0447bd6a",
   "metadata": {
    "ExecuteTime": {
     "end_time": "2022-06-02T21:59:28.296710Z",
     "start_time": "2022-06-02T21:59:25.777758Z"
    }
   },
   "outputs": [],
   "source": [
    "import numpy as np\n",
    "import pandas as pd\n",
    "from matplotlib import pyplot as plt\n",
    "from sklearn.cluster import KMeans\n",
    "from sklearn.preprocessing import StandardScaler\n",
    "from sklearn import preprocessing\n",
    "import seaborn as sns"
   ]
  },
  {
   "cell_type": "markdown",
   "id": "53a92ab4",
   "metadata": {},
   "source": [
    "# 1 - Business Problem\n",
    "Perform Clustering for the crime data and identify the number of clusters formed and draw inferences\n",
    "\n"
   ]
  },
  {
   "cell_type": "markdown",
   "id": "5aee0f37",
   "metadata": {},
   "source": [
    "# 2 - Data collection and description"
   ]
  },
  {
   "cell_type": "code",
   "execution_count": 2,
   "id": "7e9de3d7",
   "metadata": {
    "ExecuteTime": {
     "end_time": "2022-06-02T22:00:43.737902Z",
     "start_time": "2022-06-02T22:00:43.717955Z"
    }
   },
   "outputs": [],
   "source": [
    "df = pd.read_csv(\"crime_data.csv\")"
   ]
  },
  {
   "cell_type": "code",
   "execution_count": 3,
   "id": "3252c7b2",
   "metadata": {
    "ExecuteTime": {
     "end_time": "2022-06-02T22:00:44.905661Z",
     "start_time": "2022-06-02T22:00:44.891695Z"
    }
   },
   "outputs": [],
   "source": [
    "df1 = df.copy()"
   ]
  },
  {
   "cell_type": "code",
   "execution_count": 4,
   "id": "c59ed100",
   "metadata": {
    "ExecuteTime": {
     "end_time": "2022-06-02T22:00:45.452355Z",
     "start_time": "2022-06-02T22:00:45.445373Z"
    }
   },
   "outputs": [],
   "source": [
    "df1.columns = ['City','Murder' , 'Assault', 'Urbanpop','Rape']"
   ]
  },
  {
   "cell_type": "code",
   "execution_count": 5,
   "id": "603dedba",
   "metadata": {
    "ExecuteTime": {
     "end_time": "2022-06-02T22:00:45.974533Z",
     "start_time": "2022-06-02T22:00:45.946608Z"
    }
   },
   "outputs": [],
   "source": [
    "df1.loc[:,'Total'] = df1.sum(numeric_only=True, axis=1)"
   ]
  },
  {
   "cell_type": "code",
   "execution_count": 6,
   "id": "11d0eab8",
   "metadata": {
    "ExecuteTime": {
     "end_time": "2022-06-02T22:00:46.444839Z",
     "start_time": "2022-06-02T22:00:46.423894Z"
    }
   },
   "outputs": [
    {
     "data": {
      "text/html": [
       "<div>\n",
       "<style scoped>\n",
       "    .dataframe tbody tr th:only-of-type {\n",
       "        vertical-align: middle;\n",
       "    }\n",
       "\n",
       "    .dataframe tbody tr th {\n",
       "        vertical-align: top;\n",
       "    }\n",
       "\n",
       "    .dataframe thead th {\n",
       "        text-align: right;\n",
       "    }\n",
       "</style>\n",
       "<table border=\"1\" class=\"dataframe\">\n",
       "  <thead>\n",
       "    <tr style=\"text-align: right;\">\n",
       "      <th></th>\n",
       "      <th>City</th>\n",
       "      <th>Murder</th>\n",
       "      <th>Assault</th>\n",
       "      <th>Urbanpop</th>\n",
       "      <th>Rape</th>\n",
       "      <th>Total</th>\n",
       "    </tr>\n",
       "  </thead>\n",
       "  <tbody>\n",
       "    <tr>\n",
       "      <th>0</th>\n",
       "      <td>Alabama</td>\n",
       "      <td>13.2</td>\n",
       "      <td>236</td>\n",
       "      <td>58</td>\n",
       "      <td>21.2</td>\n",
       "      <td>328.4</td>\n",
       "    </tr>\n",
       "    <tr>\n",
       "      <th>1</th>\n",
       "      <td>Alaska</td>\n",
       "      <td>10.0</td>\n",
       "      <td>263</td>\n",
       "      <td>48</td>\n",
       "      <td>44.5</td>\n",
       "      <td>365.5</td>\n",
       "    </tr>\n",
       "    <tr>\n",
       "      <th>2</th>\n",
       "      <td>Arizona</td>\n",
       "      <td>8.1</td>\n",
       "      <td>294</td>\n",
       "      <td>80</td>\n",
       "      <td>31.0</td>\n",
       "      <td>413.1</td>\n",
       "    </tr>\n",
       "    <tr>\n",
       "      <th>3</th>\n",
       "      <td>Arkansas</td>\n",
       "      <td>8.8</td>\n",
       "      <td>190</td>\n",
       "      <td>50</td>\n",
       "      <td>19.5</td>\n",
       "      <td>268.3</td>\n",
       "    </tr>\n",
       "    <tr>\n",
       "      <th>4</th>\n",
       "      <td>California</td>\n",
       "      <td>9.0</td>\n",
       "      <td>276</td>\n",
       "      <td>91</td>\n",
       "      <td>40.6</td>\n",
       "      <td>416.6</td>\n",
       "    </tr>\n",
       "  </tbody>\n",
       "</table>\n",
       "</div>"
      ],
      "text/plain": [
       "         City  Murder  Assault  Urbanpop  Rape  Total\n",
       "0     Alabama    13.2      236        58  21.2  328.4\n",
       "1      Alaska    10.0      263        48  44.5  365.5\n",
       "2     Arizona     8.1      294        80  31.0  413.1\n",
       "3    Arkansas     8.8      190        50  19.5  268.3\n",
       "4  California     9.0      276        91  40.6  416.6"
      ]
     },
     "execution_count": 6,
     "metadata": {},
     "output_type": "execute_result"
    }
   ],
   "source": [
    "df1.head()"
   ]
  },
  {
   "cell_type": "code",
   "execution_count": 7,
   "id": "f41b2d05",
   "metadata": {
    "ExecuteTime": {
     "end_time": "2022-06-02T22:00:58.825452Z",
     "start_time": "2022-06-02T22:00:58.733860Z"
    }
   },
   "outputs": [
    {
     "data": {
      "text/html": [
       "<div>\n",
       "<style scoped>\n",
       "    .dataframe tbody tr th:only-of-type {\n",
       "        vertical-align: middle;\n",
       "    }\n",
       "\n",
       "    .dataframe tbody tr th {\n",
       "        vertical-align: top;\n",
       "    }\n",
       "\n",
       "    .dataframe thead th {\n",
       "        text-align: right;\n",
       "    }\n",
       "</style>\n",
       "<table border=\"1\" class=\"dataframe\">\n",
       "  <thead>\n",
       "    <tr style=\"text-align: right;\">\n",
       "      <th></th>\n",
       "      <th>Murder</th>\n",
       "      <th>Assault</th>\n",
       "      <th>Urbanpop</th>\n",
       "      <th>Rape</th>\n",
       "      <th>Total</th>\n",
       "    </tr>\n",
       "  </thead>\n",
       "  <tbody>\n",
       "    <tr>\n",
       "      <th>count</th>\n",
       "      <td>50.00000</td>\n",
       "      <td>50.000000</td>\n",
       "      <td>50.000000</td>\n",
       "      <td>50.000000</td>\n",
       "      <td>50.000000</td>\n",
       "    </tr>\n",
       "    <tr>\n",
       "      <th>mean</th>\n",
       "      <td>7.78800</td>\n",
       "      <td>170.760000</td>\n",
       "      <td>65.540000</td>\n",
       "      <td>21.232000</td>\n",
       "      <td>265.320000</td>\n",
       "    </tr>\n",
       "    <tr>\n",
       "      <th>std</th>\n",
       "      <td>4.35551</td>\n",
       "      <td>83.337661</td>\n",
       "      <td>14.474763</td>\n",
       "      <td>9.366385</td>\n",
       "      <td>98.350844</td>\n",
       "    </tr>\n",
       "    <tr>\n",
       "      <th>min</th>\n",
       "      <td>0.80000</td>\n",
       "      <td>45.000000</td>\n",
       "      <td>32.000000</td>\n",
       "      <td>7.300000</td>\n",
       "      <td>93.400000</td>\n",
       "    </tr>\n",
       "    <tr>\n",
       "      <th>25%</th>\n",
       "      <td>4.07500</td>\n",
       "      <td>109.000000</td>\n",
       "      <td>54.500000</td>\n",
       "      <td>15.075000</td>\n",
       "      <td>187.950000</td>\n",
       "    </tr>\n",
       "    <tr>\n",
       "      <th>50%</th>\n",
       "      <td>7.25000</td>\n",
       "      <td>159.000000</td>\n",
       "      <td>66.000000</td>\n",
       "      <td>20.100000</td>\n",
       "      <td>257.450000</td>\n",
       "    </tr>\n",
       "    <tr>\n",
       "      <th>75%</th>\n",
       "      <td>11.25000</td>\n",
       "      <td>249.000000</td>\n",
       "      <td>77.750000</td>\n",
       "      <td>26.175000</td>\n",
       "      <td>348.500000</td>\n",
       "    </tr>\n",
       "    <tr>\n",
       "      <th>max</th>\n",
       "      <td>17.40000</td>\n",
       "      <td>337.000000</td>\n",
       "      <td>91.000000</td>\n",
       "      <td>46.000000</td>\n",
       "      <td>462.300000</td>\n",
       "    </tr>\n",
       "  </tbody>\n",
       "</table>\n",
       "</div>"
      ],
      "text/plain": [
       "         Murder     Assault   Urbanpop       Rape       Total\n",
       "count  50.00000   50.000000  50.000000  50.000000   50.000000\n",
       "mean    7.78800  170.760000  65.540000  21.232000  265.320000\n",
       "std     4.35551   83.337661  14.474763   9.366385   98.350844\n",
       "min     0.80000   45.000000  32.000000   7.300000   93.400000\n",
       "25%     4.07500  109.000000  54.500000  15.075000  187.950000\n",
       "50%     7.25000  159.000000  66.000000  20.100000  257.450000\n",
       "75%    11.25000  249.000000  77.750000  26.175000  348.500000\n",
       "max    17.40000  337.000000  91.000000  46.000000  462.300000"
      ]
     },
     "execution_count": 7,
     "metadata": {},
     "output_type": "execute_result"
    }
   ],
   "source": [
    "df1.describe()"
   ]
  },
  {
   "cell_type": "code",
   "execution_count": 8,
   "id": "cd1f89c8",
   "metadata": {
    "ExecuteTime": {
     "end_time": "2022-06-02T22:01:19.276569Z",
     "start_time": "2022-06-02T22:01:17.820069Z"
    }
   },
   "outputs": [
    {
     "data": {
      "image/png": "[encoded data removed]",
      "text/plain": [
       "<Figure size 1152x720 with 1 Axes>"
      ]
     },
     "metadata": {
      "needs_background": "light"
     },
     "output_type": "display_data"
    }
   ],
   "source": [
    "f, ax = plt.subplots(figsize=(16, 10))\n",
    "\n",
    "stats = df1.sort_values(\"Total\", ascending=False)\n",
    "\n",
    "sns.set_color_codes(\"pastel\")\n",
    "\n",
    "sns.barplot(x=\"Total\", y=\"City\", data=stats,\n",
    "            label=\"Total\", color=\"g\")\n",
    "\n",
    "sns.barplot(x=\"Assault\", y=\"City\", data=stats,\n",
    "            label=\"Assault\", color=\"b\")\n",
    "\n",
    "sns.barplot(x=\"Rape\", y=\"City\", data=stats,\n",
    "            label=\"Rape\", color=\"y\")\n",
    "\n",
    "sns.barplot(x=\"Murder\", y=\"City\", data=stats,\n",
    "            label=\"Murder\", color=\"r\")\n",
    "\n",
    "ax.legend(ncol=2, loc=\"lower right\", frameon=True)\n",
    "ax.set(xlim=(0, 400), ylabel=\"City\",\n",
    "       xlabel=\"Nr of arrests for each crime\");"
   ]
  },
  {
   "cell_type": "code",
   "execution_count": 9,
   "id": "4e13fea9",
   "metadata": {
    "ExecuteTime": {
     "end_time": "2022-06-02T22:01:29.846966Z",
     "start_time": "2022-06-02T22:01:29.309888Z"
    }
   },
   "outputs": [
    {
     "data": {
      "image/png": "[encoded data removed]",
      "text/plain": [
       "<Figure size 432x288 with 1 Axes>"
      ]
     },
     "metadata": {
      "needs_background": "light"
     },
     "output_type": "display_data"
    }
   ],
   "source": [
    "plt.scatter(df1.City, df1.Murder, color='r')\n",
    "plt.scatter(df1.City, df1.Assault, color='g')\n",
    "plt.scatter(df1.City, df1.Urbanpop, color='b')\n",
    "plt.scatter(df1.City, df1.Rape, color='y')\n",
    "plt.xlabel('city')\n",
    "plt.ylabel('rate')\n",
    "plt.show()"
   ]
  },
  {
   "cell_type": "markdown",
   "id": "c7ccea3e",
   "metadata": {},
   "source": [
    "# 3 - Finding out the optimal number of clusters"
   ]
  },
  {
   "cell_type": "code",
   "execution_count": 10,
   "id": "d5adaf4a",
   "metadata": {
    "ExecuteTime": {
     "end_time": "2022-06-02T22:03:05.942502Z",
     "start_time": "2022-06-02T22:03:05.927541Z"
    }
   },
   "outputs": [],
   "source": [
    "X = df1[['Murder', 'Assault', 'Rape', 'Urbanpop']]"
   ]
  },
  {
   "cell_type": "code",
   "execution_count": 11,
   "id": "b1597433",
   "metadata": {
    "ExecuteTime": {
     "end_time": "2022-06-02T22:03:06.478137Z",
     "start_time": "2022-06-02T22:03:06.463181Z"
    }
   },
   "outputs": [],
   "source": [
    "df1_norm = preprocessing.scale(X)"
   ]
  },
  {
   "cell_type": "code",
   "execution_count": 12,
   "id": "98e2fb59",
   "metadata": {
    "ExecuteTime": {
     "end_time": "2022-06-02T22:03:07.076037Z",
     "start_time": "2022-06-02T22:03:07.069054Z"
    }
   },
   "outputs": [],
   "source": [
    "df1_norm = pd.DataFrame(df1_norm) #standardize the data to normal distribution\n"
   ]
  },
  {
   "cell_type": "code",
   "execution_count": 13,
   "id": "8d4fb825",
   "metadata": {
    "ExecuteTime": {
     "end_time": "2022-06-02T22:03:07.551304Z",
     "start_time": "2022-06-02T22:03:07.534347Z"
    }
   },
   "outputs": [
    {
     "data": {
      "text/html": [
       "<div>\n",
       "<style scoped>\n",
       "    .dataframe tbody tr th:only-of-type {\n",
       "        vertical-align: middle;\n",
       "    }\n",
       "\n",
       "    .dataframe tbody tr th {\n",
       "        vertical-align: top;\n",
       "    }\n",
       "\n",
       "    .dataframe thead th {\n",
       "        text-align: right;\n",
       "    }\n",
       "</style>\n",
       "<table border=\"1\" class=\"dataframe\">\n",
       "  <thead>\n",
       "    <tr style=\"text-align: right;\">\n",
       "      <th></th>\n",
       "      <th>0</th>\n",
       "      <th>1</th>\n",
       "      <th>2</th>\n",
       "      <th>3</th>\n",
       "    </tr>\n",
       "  </thead>\n",
       "  <tbody>\n",
       "    <tr>\n",
       "      <th>0</th>\n",
       "      <td>1.255179</td>\n",
       "      <td>0.790787</td>\n",
       "      <td>-0.003451</td>\n",
       "      <td>-0.526195</td>\n",
       "    </tr>\n",
       "    <tr>\n",
       "      <th>1</th>\n",
       "      <td>0.513019</td>\n",
       "      <td>1.118060</td>\n",
       "      <td>2.509424</td>\n",
       "      <td>-1.224067</td>\n",
       "    </tr>\n",
       "    <tr>\n",
       "      <th>2</th>\n",
       "      <td>0.072361</td>\n",
       "      <td>1.493817</td>\n",
       "      <td>1.053466</td>\n",
       "      <td>1.009122</td>\n",
       "    </tr>\n",
       "    <tr>\n",
       "      <th>3</th>\n",
       "      <td>0.234708</td>\n",
       "      <td>0.233212</td>\n",
       "      <td>-0.186794</td>\n",
       "      <td>-1.084492</td>\n",
       "    </tr>\n",
       "    <tr>\n",
       "      <th>4</th>\n",
       "      <td>0.281093</td>\n",
       "      <td>1.275635</td>\n",
       "      <td>2.088814</td>\n",
       "      <td>1.776781</td>\n",
       "    </tr>\n",
       "  </tbody>\n",
       "</table>\n",
       "</div>"
      ],
      "text/plain": [
       "          0         1         2         3\n",
       "0  1.255179  0.790787 -0.003451 -0.526195\n",
       "1  0.513019  1.118060  2.509424 -1.224067\n",
       "2  0.072361  1.493817  1.053466  1.009122\n",
       "3  0.234708  0.233212 -0.186794 -1.084492\n",
       "4  0.281093  1.275635  2.088814  1.776781"
      ]
     },
     "execution_count": 13,
     "metadata": {},
     "output_type": "execute_result"
    }
   ],
   "source": [
    "df1_norm.head()\n"
   ]
  },
  {
   "cell_type": "code",
   "execution_count": 14,
   "id": "03245237",
   "metadata": {
    "ExecuteTime": {
     "end_time": "2022-06-02T22:03:19.778066Z",
     "start_time": "2022-06-02T22:03:17.829959Z"
    }
   },
   "outputs": [
    {
     "name": "stderr",
     "output_type": "stream",
     "text": [
      "C:\\Users\\deshp\\anaconda3\\lib\\site-packages\\sklearn\\cluster\\_kmeans.py:881: UserWarning: KMeans is known to have a memory leak on Windows with MKL, when there are less chunks than available threads. You can avoid it by setting the environment variable OMP_NUM_THREADS=1.\n",
      "  warnings.warn(\n"
     ]
    },
    {
     "data": {
      "image/png": "[encoded data removed]",
      "text/plain": [
       "<Figure size 720x576 with 1 Axes>"
      ]
     },
     "metadata": {
      "needs_background": "light"
     },
     "output_type": "display_data"
    }
   ],
   "source": [
    "plt.figure(figsize=(10, 8))\n",
    "wcss = []\n",
    "for i in range(1, 15):\n",
    "    kmeans = KMeans(n_clusters = i, init = 'k-means++', random_state = 42)\n",
    "    kmeans.fit(df1_norm)\n",
    "    wcss.append(kmeans.inertia_)\n",
    "plt.plot(range(1, 15), wcss)\n",
    "plt.title('The Elbow Method')\n",
    "plt.xlabel('Number of clusters')\n",
    "plt.ylabel('WCSS')\n",
    "plt.show()"
   ]
  },
  {
   "cell_type": "markdown",
   "id": "ed1b1969",
   "metadata": {},
   "source": [
    "The scree plot levels off at k=4 and let's use it to determine the clusters"
   ]
  },
  {
   "cell_type": "markdown",
   "id": "165eea35",
   "metadata": {},
   "source": [
    "# 4 - Analysing the data"
   ]
  },
  {
   "cell_type": "code",
   "execution_count": 15,
   "id": "bceae003",
   "metadata": {
    "ExecuteTime": {
     "end_time": "2022-06-02T22:03:55.393451Z",
     "start_time": "2022-06-02T22:03:55.356551Z"
    }
   },
   "outputs": [],
   "source": [
    "kmeans = KMeans(n_clusters = 4, init = 'k-means++', random_state = 42)\n",
    "y_kmeans = kmeans.fit_predict(df1_norm)"
   ]
  },
  {
   "cell_type": "code",
   "execution_count": 16,
   "id": "510b43b2",
   "metadata": {
    "ExecuteTime": {
     "end_time": "2022-06-02T22:04:01.636583Z",
     "start_time": "2022-06-02T22:04:01.619595Z"
    }
   },
   "outputs": [
    {
     "data": {
      "text/plain": [
       "array([1, 2, 2, 1, 2, 2, 0, 0, 2, 1, 0, 3, 2, 0, 3, 0, 3, 1, 3, 2, 0, 2,\n",
       "       3, 1, 2, 3, 3, 2, 3, 0, 2, 2, 1, 3, 0, 0, 0, 0, 0, 1, 3, 1, 2, 0,\n",
       "       3, 0, 0, 3, 3, 0])"
      ]
     },
     "execution_count": 16,
     "metadata": {},
     "output_type": "execute_result"
    }
   ],
   "source": [
    "y_kmeans"
   ]
  },
  {
   "cell_type": "code",
   "execution_count": 17,
   "id": "9a63ec65",
   "metadata": {
    "ExecuteTime": {
     "end_time": "2022-06-02T22:04:26.083606Z",
     "start_time": "2022-06-02T22:04:26.078617Z"
    }
   },
   "outputs": [],
   "source": [
    "y_kmeans1=y_kmeans+1\n",
    "cluster = list(y_kmeans1)"
   ]
  },
  {
   "cell_type": "code",
   "execution_count": 18,
   "id": "25301fa8",
   "metadata": {
    "ExecuteTime": {
     "end_time": "2022-06-02T22:04:26.666205Z",
     "start_time": "2022-06-02T22:04:26.652244Z"
    }
   },
   "outputs": [],
   "source": [
    "df1['cluster'] = cluster"
   ]
  },
  {
   "cell_type": "code",
   "execution_count": 19,
   "id": "880c4eca",
   "metadata": {
    "ExecuteTime": {
     "end_time": "2022-06-02T22:04:27.154500Z",
     "start_time": "2022-06-02T22:04:27.131560Z"
    }
   },
   "outputs": [
    {
     "data": {
      "text/html": [
       "<div>\n",
       "<style scoped>\n",
       "    .dataframe tbody tr th:only-of-type {\n",
       "        vertical-align: middle;\n",
       "    }\n",
       "\n",
       "    .dataframe tbody tr th {\n",
       "        vertical-align: top;\n",
       "    }\n",
       "\n",
       "    .dataframe thead th {\n",
       "        text-align: right;\n",
       "    }\n",
       "</style>\n",
       "<table border=\"1\" class=\"dataframe\">\n",
       "  <thead>\n",
       "    <tr style=\"text-align: right;\">\n",
       "      <th></th>\n",
       "      <th>Murder</th>\n",
       "      <th>Assault</th>\n",
       "      <th>Urbanpop</th>\n",
       "      <th>Rape</th>\n",
       "      <th>Total</th>\n",
       "    </tr>\n",
       "    <tr>\n",
       "      <th>cluster</th>\n",
       "      <th></th>\n",
       "      <th></th>\n",
       "      <th></th>\n",
       "      <th></th>\n",
       "      <th></th>\n",
       "    </tr>\n",
       "  </thead>\n",
       "  <tbody>\n",
       "    <tr>\n",
       "      <th>1</th>\n",
       "      <td>5.7</td>\n",
       "      <td>138.9</td>\n",
       "      <td>73.9</td>\n",
       "      <td>18.8</td>\n",
       "      <td>237.2</td>\n",
       "    </tr>\n",
       "    <tr>\n",
       "      <th>2</th>\n",
       "      <td>13.9</td>\n",
       "      <td>243.6</td>\n",
       "      <td>53.8</td>\n",
       "      <td>21.4</td>\n",
       "      <td>332.7</td>\n",
       "    </tr>\n",
       "    <tr>\n",
       "      <th>3</th>\n",
       "      <td>10.8</td>\n",
       "      <td>257.4</td>\n",
       "      <td>76.0</td>\n",
       "      <td>33.2</td>\n",
       "      <td>377.4</td>\n",
       "    </tr>\n",
       "    <tr>\n",
       "      <th>4</th>\n",
       "      <td>3.6</td>\n",
       "      <td>78.5</td>\n",
       "      <td>52.1</td>\n",
       "      <td>12.2</td>\n",
       "      <td>146.4</td>\n",
       "    </tr>\n",
       "  </tbody>\n",
       "</table>\n",
       "</div>"
      ],
      "text/plain": [
       "         Murder  Assault  Urbanpop  Rape  Total\n",
       "cluster                                        \n",
       "1           5.7    138.9      73.9  18.8  237.2\n",
       "2          13.9    243.6      53.8  21.4  332.7\n",
       "3          10.8    257.4      76.0  33.2  377.4\n",
       "4           3.6     78.5      52.1  12.2  146.4"
      ]
     },
     "execution_count": 19,
     "metadata": {},
     "output_type": "execute_result"
    }
   ],
   "source": [
    "kmeans_mean_cluster = pd.DataFrame(round(df1.groupby('cluster').mean(),1))\n",
    "kmeans_mean_cluster"
   ]
  },
  {
   "cell_type": "code",
   "execution_count": 20,
   "id": "e0b63674",
   "metadata": {
    "ExecuteTime": {
     "end_time": "2022-06-02T22:04:37.712870Z",
     "start_time": "2022-06-02T22:04:37.176624Z"
    }
   },
   "outputs": [
    {
     "data": {
      "text/plain": [
       "<AxesSubplot:xlabel='Murder', ylabel='Assault'>"
      ]
     },
     "execution_count": 20,
     "metadata": {},
     "output_type": "execute_result"
    },
    {
     "data": {
      "image/png": "[encoded data removed]",
      "text/plain": [
       "<Figure size 864x432 with 1 Axes>"
      ]
     },
     "metadata": {
      "needs_background": "light"
     },
     "output_type": "display_data"
    }
   ],
   "source": [
    "plt.figure(figsize=(12,6))\n",
    "sns.scatterplot(x=df1['Murder'], y = df1['Assault'],hue=y_kmeans1)"
   ]
  },
  {
   "cell_type": "code",
   "execution_count": 21,
   "id": "95b6ece6",
   "metadata": {
    "ExecuteTime": {
     "end_time": "2022-06-02T22:04:46.951481Z",
     "start_time": "2022-06-02T22:04:46.628212Z"
    }
   },
   "outputs": [
    {
     "data": {
      "text/plain": [
       "<AxesSubplot:xlabel='Murder', ylabel='Rape'>"
      ]
     },
     "execution_count": 21,
     "metadata": {},
     "output_type": "execute_result"
    },
    {
     "data": {
      "image/png": "[encoded data removed]",
      "text/plain": [
       "<Figure size 864x432 with 1 Axes>"
      ]
     },
     "metadata": {
      "needs_background": "light"
     },
     "output_type": "display_data"
    }
   ],
   "source": [
    "plt.figure(figsize=(12,6))\n",
    "sns.scatterplot(x=df1['Murder'], y = df1['Rape'],hue=y_kmeans1)"
   ]
  },
  {
   "cell_type": "code",
   "execution_count": 22,
   "id": "aff084ca",
   "metadata": {
    "ExecuteTime": {
     "end_time": "2022-06-02T22:04:55.661569Z",
     "start_time": "2022-06-02T22:04:55.351214Z"
    }
   },
   "outputs": [
    {
     "data": {
      "text/plain": [
       "<AxesSubplot:xlabel='Rape', ylabel='Assault'>"
      ]
     },
     "execution_count": 22,
     "metadata": {},
     "output_type": "execute_result"
    },
    {
     "data": {
      "image/png": "[encoded data removed]",
      "text/plain": [
       "<Figure size 864x432 with 1 Axes>"
      ]
     },
     "metadata": {
      "needs_background": "light"
     },
     "output_type": "display_data"
    }
   ],
   "source": [
    "plt.figure(figsize=(12,6))\n",
    "sns.scatterplot(x=df1['Rape'], y = df1['Assault'],hue=y_kmeans1)"
   ]
  },
  {
   "cell_type": "code",
   "execution_count": 23,
   "id": "25d69a78",
   "metadata": {
    "ExecuteTime": {
     "end_time": "2022-06-02T22:05:12.101300Z",
     "start_time": "2022-06-02T22:05:12.095317Z"
    }
   },
   "outputs": [],
   "source": [
    "stats = df1.sort_values(\"Total\", ascending=True)\n",
    "df1_total= pd.DataFrame(stats)"
   ]
  },
  {
   "cell_type": "code",
   "execution_count": 24,
   "id": "5e15e1b5",
   "metadata": {
    "ExecuteTime": {
     "end_time": "2022-06-02T22:05:12.690557Z",
     "start_time": "2022-06-02T22:05:12.670611Z"
    }
   },
   "outputs": [
    {
     "data": {
      "text/html": [
       "<div>\n",
       "<style scoped>\n",
       "    .dataframe tbody tr th:only-of-type {\n",
       "        vertical-align: middle;\n",
       "    }\n",
       "\n",
       "    .dataframe tbody tr th {\n",
       "        vertical-align: top;\n",
       "    }\n",
       "\n",
       "    .dataframe thead th {\n",
       "        text-align: right;\n",
       "    }\n",
       "</style>\n",
       "<table border=\"1\" class=\"dataframe\">\n",
       "  <thead>\n",
       "    <tr style=\"text-align: right;\">\n",
       "      <th></th>\n",
       "      <th>City</th>\n",
       "      <th>Murder</th>\n",
       "      <th>Assault</th>\n",
       "      <th>Urbanpop</th>\n",
       "      <th>Rape</th>\n",
       "      <th>Total</th>\n",
       "      <th>cluster</th>\n",
       "    </tr>\n",
       "  </thead>\n",
       "  <tbody>\n",
       "    <tr>\n",
       "      <th>44</th>\n",
       "      <td>Vermont</td>\n",
       "      <td>2.2</td>\n",
       "      <td>48</td>\n",
       "      <td>32</td>\n",
       "      <td>11.2</td>\n",
       "      <td>93.4</td>\n",
       "      <td>4</td>\n",
       "    </tr>\n",
       "    <tr>\n",
       "      <th>33</th>\n",
       "      <td>North Dakota</td>\n",
       "      <td>0.8</td>\n",
       "      <td>45</td>\n",
       "      <td>44</td>\n",
       "      <td>7.3</td>\n",
       "      <td>97.1</td>\n",
       "      <td>4</td>\n",
       "    </tr>\n",
       "    <tr>\n",
       "      <th>28</th>\n",
       "      <td>New Hampshire</td>\n",
       "      <td>2.1</td>\n",
       "      <td>57</td>\n",
       "      <td>56</td>\n",
       "      <td>9.5</td>\n",
       "      <td>124.6</td>\n",
       "      <td>4</td>\n",
       "    </tr>\n",
       "    <tr>\n",
       "      <th>14</th>\n",
       "      <td>Iowa</td>\n",
       "      <td>2.2</td>\n",
       "      <td>56</td>\n",
       "      <td>57</td>\n",
       "      <td>11.3</td>\n",
       "      <td>126.5</td>\n",
       "      <td>4</td>\n",
       "    </tr>\n",
       "    <tr>\n",
       "      <th>48</th>\n",
       "      <td>Wisconsin</td>\n",
       "      <td>2.6</td>\n",
       "      <td>53</td>\n",
       "      <td>66</td>\n",
       "      <td>10.8</td>\n",
       "      <td>132.4</td>\n",
       "      <td>4</td>\n",
       "    </tr>\n",
       "  </tbody>\n",
       "</table>\n",
       "</div>"
      ],
      "text/plain": [
       "             City  Murder  Assault  Urbanpop  Rape  Total  cluster\n",
       "44        Vermont     2.2       48        32  11.2   93.4        4\n",
       "33   North Dakota     0.8       45        44   7.3   97.1        4\n",
       "28  New Hampshire     2.1       57        56   9.5  124.6        4\n",
       "14           Iowa     2.2       56        57  11.3  126.5        4\n",
       "48      Wisconsin     2.6       53        66  10.8  132.4        4"
      ]
     },
     "execution_count": 24,
     "metadata": {},
     "output_type": "execute_result"
    }
   ],
   "source": [
    "df1_total.head()"
   ]
  },
  {
   "cell_type": "markdown",
   "id": "f5644054",
   "metadata": {},
   "source": [
    "# 5 - Conclusion\n",
    "1 - Analysing Murder and Assault variables shows a clearer connection between them. Higher the murder rates in a city higer the assaults and vice versa\n",
    "\n",
    "2 = Contrary to murders and assaults, there is much more spread among the clusters when comparing murders and rapes. Some correlation is visible, but low murder rates in a city seem to indicate lower number of rapes and vice versa\n",
    "\n",
    "3 - As with murder and assault, also rates of rape and assault show clearer correlations"
   ]
  },
  {
   "cell_type": "code",
   "execution_count": null,
   "id": "896bbe9e",
   "metadata": {},
   "outputs": [],
   "source": []
  }
 ],
 "metadata": {
  "kernelspec": {
   "display_name": "Python 3 (ipykernel)",
   "language": "python",
   "name": "python3"
  },
  "language_info": {
   "codemirror_mode": {
    "name": "ipython",
    "version": 3
   },
   "file_extension": ".py",
   "mimetype": "text/x-python",
   "name": "python",
   "nbconvert_exporter": "python",
   "pygments_lexer": "ipython3",
   "version": "3.9.7"
  }
 },
 "nbformat": 4,
 "nbformat_minor": 5
}
